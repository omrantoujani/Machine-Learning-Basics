{
 "cells": [
  {
   "cell_type": "markdown",
   "metadata": {},
   "source": [
    "## K-Means Implementation"
   ]
  },
  {
   "cell_type": "code",
   "execution_count": 32,
   "metadata": {},
   "outputs": [],
   "source": [
    "#import packages\n",
    "import numpy as np\n",
    "from sklearn.datasets import make_blobs\n",
    "import pandas as pd\n",
    "import random\n",
    "from sklearn.preprocessing import StandardScaler\n",
    "\n",
    "import matplotlib.pyplot as plt\n",
    "import matplotlib.cm as cm\n",
    "\n",
    "%matplotlib inline"
   ]
  },
  {
   "cell_type": "markdown",
   "metadata": {},
   "source": [
    "### Generate data\n",
    "Here I am generating a 1000x2 dataframe that inherently has 5 clusters."
   ]
  },
  {
   "cell_type": "code",
   "execution_count": 33,
   "metadata": {},
   "outputs": [
    {
     "data": {
      "text/html": [
       "<div>\n",
       "<style scoped>\n",
       "    .dataframe tbody tr th:only-of-type {\n",
       "        vertical-align: middle;\n",
       "    }\n",
       "\n",
       "    .dataframe tbody tr th {\n",
       "        vertical-align: top;\n",
       "    }\n",
       "\n",
       "    .dataframe thead th {\n",
       "        text-align: right;\n",
       "    }\n",
       "</style>\n",
       "<table border=\"1\" class=\"dataframe\">\n",
       "  <thead>\n",
       "    <tr style=\"text-align: right;\">\n",
       "      <th></th>\n",
       "      <th>col1</th>\n",
       "      <th>col2</th>\n",
       "    </tr>\n",
       "  </thead>\n",
       "  <tbody>\n",
       "    <tr>\n",
       "      <th>0</th>\n",
       "      <td>-0.288390</td>\n",
       "      <td>-9.911921</td>\n",
       "    </tr>\n",
       "    <tr>\n",
       "      <th>1</th>\n",
       "      <td>9.056103</td>\n",
       "      <td>1.020104</td>\n",
       "    </tr>\n",
       "    <tr>\n",
       "      <th>2</th>\n",
       "      <td>-5.440328</td>\n",
       "      <td>0.680865</td>\n",
       "    </tr>\n",
       "    <tr>\n",
       "      <th>3</th>\n",
       "      <td>-1.976588</td>\n",
       "      <td>-10.113697</td>\n",
       "    </tr>\n",
       "    <tr>\n",
       "      <th>4</th>\n",
       "      <td>-9.037127</td>\n",
       "      <td>3.384706</td>\n",
       "    </tr>\n",
       "  </tbody>\n",
       "</table>\n",
       "</div>"
      ],
      "text/plain": [
       "       col1       col2\n",
       "0 -0.288390  -9.911921\n",
       "1  9.056103   1.020104\n",
       "2 -5.440328   0.680865\n",
       "3 -1.976588 -10.113697\n",
       "4 -9.037127   3.384706"
      ]
     },
     "execution_count": 33,
     "metadata": {},
     "output_type": "execute_result"
    }
   ],
   "source": [
    "X, y = make_blobs(n_samples=1000, centers=5, n_features=2, random_state=7)\n",
    "X = pd.DataFrame(X, columns=['col1', 'col2'])\n",
    "X.head()"
   ]
  },
  {
   "cell_type": "code",
   "execution_count": 34,
   "metadata": {},
   "outputs": [
    {
     "data": {
      "text/plain": [
       "<matplotlib.collections.PathCollection at 0x7f5d7009ae10>"
      ]
     },
     "execution_count": 34,
     "metadata": {},
     "output_type": "execute_result"
    },
    {
     "data": {
      "image/png": "[encoded data removed]",
      "text/plain": [
       "<Figure size 432x288 with 1 Axes>"
      ]
     },
     "metadata": {},
     "output_type": "display_data"
    }
   ],
   "source": [
    "plt.scatter(X.col1, X.col2, s=2, color ='black')"
   ]
  },
  {
   "cell_type": "code",
   "execution_count": 35,
   "metadata": {},
   "outputs": [],
   "source": [
    "def dist(a,b, axis=None):\n",
    "    '''\n",
    "    Computes the Euclidean distance between arrays a and b.\n",
    "    '''\n",
    "    return np.linalg.norm(a-b, axis = axis)"
   ]
  },
  {
   "cell_type": "markdown",
   "metadata": {},
   "source": [
    "We first normalise the data. This is done to prevent a particular column for impacting the cluster formation more than the others."
   ]
  },
  {
   "cell_type": "code",
   "execution_count": 36,
   "metadata": {},
   "outputs": [],
   "source": [
    "s = StandardScaler()\n",
    "X = s.fit_transform(X)"
   ]
  },
  {
   "cell_type": "markdown",
   "metadata": {},
   "source": [
    "### Define the KMeans class\n",
    "It has 3 functions:\n",
    "1. __init__() constructor that initialises the attributes\n",
    "2. fit() has the core logic that computes the centroids and cluster assignment\n",
    "3. plot() that visualises the clusters"
   ]
  },
  {
   "cell_type": "code",
   "execution_count": 37,
   "metadata": {},
   "outputs": [],
   "source": [
    "class KMeans():\n",
    "    def __init__(self, k, threshold, max_iter):\n",
    "        self.k = k\n",
    "        self.threshold = threshold\n",
    "        self.max_iter = max_iter\n",
    "\n",
    "    def fit(self, X):\n",
    "        self.X = X\n",
    "        self.centroids = self.X[random.sample(range(len(self.X)), self.k)]\n",
    "        centroids_new = self.centroids.copy()\n",
    "        print(self.centroids)\n",
    "        for it in range(self.max_iter):\n",
    "            self.assigned_cluster = {i: [] for i in range(self.k)}\n",
    "            for row in range(len(self.X)):\n",
    "                assigned_idx = np.argmin(\n",
    "                    dist(self.X[row, :].reshape(1, 2), self.centroids, axis=1))\n",
    "                self.assigned_cluster[assigned_idx].append(row)\n",
    "\n",
    "            for i in range(self.k):\n",
    "                centroids_new[i] = np.mean(\n",
    "                    self.X[self.assigned_cluster[i]], axis=0)\n",
    "\n",
    "\n",
    "#             if dist(self.centroids, centroids_new) < self.threshold:\n",
    "#                 centroids = new_centroids\n",
    "#                 break;\n",
    "            self.centroids = centroids_new\n",
    "        print('Stopping after '+  str(it)  + ' iterations.')\n",
    "\n",
    "    def plot(self):\n",
    "        colours = cm.rainbow(np.linspace(0, 1, self.k))\n",
    "        fig, ax = plt.subplots()\n",
    "        for i in range(self.k):\n",
    "            ax.scatter(\n",
    "                self.X[self.assigned_cluster[i], 0],\n",
    "                self.X[self.assigned_cluster[i], 1],\n",
    "                color=colours[i],\n",
    "                s=2)\n",
    "        plt.scatter(\n",
    "            self.centroids[:, 0],\n",
    "            self.centroids[:, 1],\n",
    "            marker='*',\n",
    "            color='black')"
   ]
  },
  {
   "cell_type": "code",
   "execution_count": 43,
   "metadata": {},
   "outputs": [],
   "source": [
    "kmeans = KMeans(k=5, max_iter=10000, threshold=0.0001)"
   ]
  },
  {
   "cell_type": "code",
   "execution_count": 44,
   "metadata": {},
   "outputs": [
    {
     "name": "stdout",
     "output_type": "stream",
     "text": [
      "[[ 1.7695746  -0.14116149]\n",
      " [ 0.20006798 -1.68946753]\n",
      " [-0.37594541  0.11577118]\n",
      " [-0.70712338 -0.08467441]\n",
      " [-0.54049147 -0.3832937 ]]\n",
      "Stopping after 9999 iterations.\n"
     ]
    }
   ],
   "source": [
    "kmeans.fit(X)"
   ]
  },
  {
   "cell_type": "code",
   "execution_count": 45,
   "metadata": {},
   "outputs": [
    {
     "data": {
      "image/png": "[encoded data removed]",
      "text/plain": [
       "<Figure size 432x288 with 1 Axes>"
      ]
     },
     "metadata": {},
     "output_type": "display_data"
    }
   ],
   "source": [
    "kmeans.plot()"
   ]
  },
  {
   "cell_type": "code",
   "execution_count": null,
   "metadata": {},
   "outputs": [],
   "source": []
  }
 ],
 "metadata": {
  "kernelspec": {
   "display_name": "Python 2",
   "language": "python",
   "name": "python2"
  },
  "language_info": {
   "codemirror_mode": {
    "name": "ipython",
    "version": 2
   },
   "file_extension": ".py",
   "mimetype": "text/x-python",
   "name": "python",
   "nbconvert_exporter": "python",
   "pygments_lexer": "ipython2",
   "version": "2.7.12"
  },
  "varInspector": {
   "cols": {
    "lenName": 16,
    "lenType": 16,
    "lenVar": 40
   },
   "kernels_config": {
    "python": {
     "delete_cmd_postfix": "",
     "delete_cmd_prefix": "del ",
     "library": "var_list.py",
     "varRefreshCmd": "print(var_dic_list())"
    },
    "r": {
     "delete_cmd_postfix": ") ",
     "delete_cmd_prefix": "rm(",
     "library": "var_list.r",
     "varRefreshCmd": "cat(var_dic_list()) "
    }
   },
   "types_to_exclude": [
    "module",
    "function",
    "builtin_function_or_method",
    "instance",
    "_Feature"
   ],
   "window_display": false
  }
 },
 "nbformat": 4,
 "nbformat_minor": 2
}
